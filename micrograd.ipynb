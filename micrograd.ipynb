{
 "cells": [
  {
   "cell_type": "code",
   "execution_count": 50,
   "id": "708a8a67",
   "metadata": {},
   "outputs": [],
   "source": [
    "class Value:\n",
    "    def __init__(self, value, left=None, right=None, _op=''):\n",
    "        self.value = value\n",
    "        self.left = left\n",
    "        self.right = right\n",
    "        self._op = _op\n",
    "        self.grad = 0\n",
    "\n",
    "    def __repr__(self):\n",
    "        return f'Value({self.value})'\n",
    "\n",
    "    def __add__(self, other):\n",
    "        return Value(self.value + other.value, self, other, '+')\n",
    "\n",
    "    def __mul__(self, other):\n",
    "        return Value(self.value * other.value, self, other, '*')\n",
    "\n",
    "\n",
    "def backprop(root: Value):\n",
    "    root.grad = 1\n",
    "    stack = [root]\n",
    "    while stack:\n",
    "        curr = stack.pop()\n",
    "        if not curr.left:\n",
    "            assert not curr.right\n",
    "            continue\n",
    "\n",
    "        if curr._op == '+':\n",
    "            curr.left.grad = curr.grad\n",
    "            curr.right.grad = curr.grad\n",
    "\n",
    "        elif curr._op == '*':\n",
    "            curr.left.grad = curr.grad * curr.right.value\n",
    "            curr.right.grad = curr.grad * curr.left.value\n",
    "        else:\n",
    "            raise ValueError(\"Undefined operarand\")\n",
    "\n",
    "        stack.append(curr.left)\n",
    "        stack.append(curr.right)"
   ]
  },
  {
   "cell_type": "code",
   "execution_count": 51,
   "id": "98a9809f-5619-4495-8e47-98df4afbe9c2",
   "metadata": {},
   "outputs": [
    {
     "name": "stdout",
     "output_type": "stream",
     "text": [
      "Value(4)\n"
     ]
    }
   ],
   "source": [
    "a = Value(-3)\n",
    "b = Value(2)\n",
    "c = a * b\n",
    "d = Value(10)\n",
    "e = c + d\n",
    "\n",
    "print(e)"
   ]
  },
  {
   "cell_type": "code",
   "execution_count": 52,
   "id": "88bf1138-9544-447c-8727-8f9e0cb6736e",
   "metadata": {},
   "outputs": [],
   "source": [
    "def step(params: list[Value], rate=0.01):\n",
    "    for p in params:\n",
    "        p.value -= p.grad * rate"
   ]
  },
  {
   "cell_type": "code",
   "execution_count": 59,
   "id": "8860d39b-e298-434a-b097-c0ac3e9c4148",
   "metadata": {},
   "outputs": [
    {
     "name": "stdout",
     "output_type": "stream",
     "text": [
      "2.1830603018019996 -3.124540451203 1 1 1\n",
      "2.9629726204571085\n"
     ]
    }
   ],
   "source": [
    "backprop(e)\n",
    "print(a.grad, b.grad, c.grad, d.grad, e.grad)\n",
    "step([a, b, c, d, e])\n",
    "\n",
    "c = a * b\n",
    "e = c + d\n",
    "\n",
    "print(e.value)"
   ]
  },
  {
   "cell_type": "code",
   "execution_count": null,
   "id": "7cf74c11-7e17-455d-b105-b38bc7b247e0",
   "metadata": {},
   "outputs": [],
   "source": []
  }
 ],
 "metadata": {
  "kernelspec": {
   "display_name": "Python 3 (ipykernel)",
   "language": "python",
   "name": "python3"
  },
  "language_info": {
   "codemirror_mode": {
    "name": "ipython",
    "version": 3
   },
   "file_extension": ".py",
   "mimetype": "text/x-python",
   "name": "python",
   "nbconvert_exporter": "python",
   "pygments_lexer": "ipython3",
   "version": "3.12.1"
  }
 },
 "nbformat": 4,
 "nbformat_minor": 5
}
