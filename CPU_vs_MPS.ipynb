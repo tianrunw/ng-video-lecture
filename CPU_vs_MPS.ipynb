{
 "cells": [
  {
   "cell_type": "code",
   "execution_count": 1,
   "id": "9206770f",
   "metadata": {},
   "outputs": [],
   "source": [
    "import time\n",
    "import torch\n",
    "\n",
    "MSIZE = 2000\n",
    "\n",
    "torch.manual_seed(1234)\n",
    "TENSOR_A_CPU = torch.rand(MSIZE, MSIZE)\n",
    "TENSOR_B_CPU = torch.rand(MSIZE, MSIZE)\n",
    "\n",
    "torch.manual_seed(1234)\n",
    "TENSOR_A_MPS = torch.rand(MSIZE, MSIZE).to('mps')\n",
    "TENSOR_B_MPS = torch.rand(MSIZE, MSIZE).to('mps')"
   ]
  },
  {
   "cell_type": "code",
   "execution_count": 2,
   "id": "655c3924",
   "metadata": {},
   "outputs": [],
   "source": [
    "def run(f, times=100):\n",
    "    start_time = time.time()\n",
    "    for _ in range(times):\n",
    "        f()\n",
    "    \n",
    "    print(f\"Ran {times} times, {time.time() - start_time} seconds\")"
   ]
  },
  {
   "cell_type": "code",
   "execution_count": 3,
   "id": "40c73eef",
   "metadata": {},
   "outputs": [
    {
     "name": "stdout",
     "output_type": "stream",
     "text": [
      "Ran 100 times, 0.8707849979400635 seconds\n"
     ]
    }
   ],
   "source": [
    "run(lambda: TENSOR_A_CPU @ TENSOR_B_CPU)"
   ]
  },
  {
   "cell_type": "code",
   "execution_count": 4,
   "id": "54524512",
   "metadata": {},
   "outputs": [
    {
     "name": "stdout",
     "output_type": "stream",
     "text": [
      "Ran 100 times, 0.053321123123168945 seconds\n"
     ]
    }
   ],
   "source": [
    "run(lambda: TENSOR_A_MPS @ TENSOR_B_MPS)"
   ]
  },
  {
   "cell_type": "code",
   "execution_count": 55,
   "id": "0a53987c",
   "metadata": {},
   "outputs": [],
   "source": [
    "import torch.nn as nn\n",
    "\n",
    "BATCH_SIZE = 32  # B\n",
    "BLOCK_SIZE = 32   # T\n",
    "D_MODEL = 128     # C\n",
    "VOCAB_SIZE = 64  # V\n",
    "\n",
    "\n",
    "class MyModule(nn.Module):\n",
    "    \n",
    "    def __init__(self):\n",
    "        super().__init__()\n",
    "        self.embedding = nn.Embedding(VOCAB_SIZE, D_MODEL)\n",
    "        self.layer1 = nn.Linear(D_MODEL, VOCAB_SIZE)\n",
    "    \n",
    "    def forward(self, x, targets):\n",
    "        B, T = x.shape\n",
    "        x = self.embedding(x)  # B, T, D_MODEL\n",
    "        x = self.layer1(x)  # B, T, V\n",
    "        x = x.view(B * T, VOCAB_SIZE)\n",
    "        loss = nn.functional.cross_entropy(x, targets)\n",
    "        return x, loss"
   ]
  },
  {
   "cell_type": "code",
   "execution_count": 56,
   "id": "8e8b8350",
   "metadata": {},
   "outputs": [],
   "source": [
    "def train_model(module, x, y, times=1000):\n",
    "    optimizer = torch.optim.SGD(module.parameters(), lr=1e-3)\n",
    "    \n",
    "    start_time = time.time()\n",
    "    for _ in range(times):\n",
    "        logits, loss = module(x, y)\n",
    "        optimizer.zero_grad(set_to_none=True)\n",
    "        loss.backward()\n",
    "        optimizer.step()\n",
    "    \n",
    "    print(f\"Ran {times} times, {time.time() - start_time} seconds\")"
   ]
  },
  {
   "cell_type": "code",
   "execution_count": 57,
   "id": "9779b42e",
   "metadata": {},
   "outputs": [],
   "source": [
    "X = torch.randint(VOCAB_SIZE, (BATCH_SIZE, BLOCK_SIZE))\n",
    "\n",
    "Y = torch.randint(VOCAB_SIZE, (BATCH_SIZE * BLOCK_SIZE, ))"
   ]
  },
  {
   "cell_type": "code",
   "execution_count": 58,
   "id": "7dd77a3d",
   "metadata": {},
   "outputs": [
    {
     "name": "stdout",
     "output_type": "stream",
     "text": [
      "Ran 1000 times, 0.6712536811828613 seconds\n"
     ]
    }
   ],
   "source": [
    "train_model(MyModule(), X, Y)"
   ]
  },
  {
   "cell_type": "code",
   "execution_count": 59,
   "id": "e705e3d7",
   "metadata": {},
   "outputs": [
    {
     "name": "stdout",
     "output_type": "stream",
     "text": [
      "Ran 1000 times, 1.0049159526824951 seconds\n"
     ]
    }
   ],
   "source": [
    "train_model(MyModule().to('mps'), X.to('mps'), Y.to('mps'))"
   ]
  },
  {
   "cell_type": "code",
   "execution_count": null,
   "id": "9e2dcf7e",
   "metadata": {},
   "outputs": [],
   "source": []
  }
 ],
 "metadata": {
  "kernelspec": {
   "display_name": "Python 3 (ipykernel)",
   "language": "python",
   "name": "python3"
  },
  "language_info": {
   "codemirror_mode": {
    "name": "ipython",
    "version": 3
   },
   "file_extension": ".py",
   "mimetype": "text/x-python",
   "name": "python",
   "nbconvert_exporter": "python",
   "pygments_lexer": "ipython3",
   "version": "3.11.8"
  }
 },
 "nbformat": 4,
 "nbformat_minor": 5
}
