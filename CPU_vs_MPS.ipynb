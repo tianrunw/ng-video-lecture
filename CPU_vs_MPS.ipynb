{
 "cells": [
  {
   "cell_type": "code",
   "execution_count": 1,
   "id": "9206770f",
   "metadata": {},
   "outputs": [],
   "source": [
    "import time\n",
    "import torch\n",
    "\n",
    "device = \"mps\"\n",
    "msize = 2000\n",
    "tloop = 100\n",
    "\n",
    "torch.manual_seed(1234)\n",
    "TENSOR_A_CPU = torch.rand(msize, msize)\n",
    "TENSOR_B_CPU = torch.rand(msize, msize)\n",
    "\n",
    "torch.manual_seed(1234)\n",
    "TENSOR_A_MPS = torch.rand(msize, msize).to(device)\n",
    "TENSOR_B_MPS = torch.rand(msize, msize).to(device)"
   ]
  },
  {
   "cell_type": "code",
   "execution_count": 2,
   "id": "40c73eef",
   "metadata": {},
   "outputs": [
    {
     "name": "stdout",
     "output_type": "stream",
     "text": [
      "CPU : --- 0.7087728977203369 seconds ---\n"
     ]
    }
   ],
   "source": [
    "start_time = time.time()\n",
    "\n",
    "for _ in range(tloop):\n",
    "    TENSOR_A_CPU @ TENSOR_B_CPU\n",
    "\n",
    "print(f\"CPU : --- {time.time() - start_time} seconds ---\")"
   ]
  },
  {
   "cell_type": "code",
   "execution_count": 3,
   "id": "54524512",
   "metadata": {},
   "outputs": [
    {
     "name": "stdout",
     "output_type": "stream",
     "text": [
      "MPS : --- 0.042634010314941406 seconds ---\n"
     ]
    }
   ],
   "source": [
    "start_time = time.time()\n",
    "\n",
    "for _ in range(tloop):\n",
    "    TENSOR_A_MPS @ TENSOR_B_MPS\n",
    "\n",
    "print(f\"MPS : --- {time.time() - start_time} seconds ---\")"
   ]
  },
  {
   "cell_type": "code",
   "execution_count": 4,
   "id": "3c209358",
   "metadata": {},
   "outputs": [
    {
     "data": {
      "text/plain": [
       "torch.Size([2000, 2000])"
      ]
     },
     "execution_count": 4,
     "metadata": {},
     "output_type": "execute_result"
    }
   ],
   "source": [
    "TENSOR_A_MPS.shape"
   ]
  },
  {
   "cell_type": "code",
   "execution_count": 5,
   "id": "0a53987c",
   "metadata": {},
   "outputs": [],
   "source": [
    "import torch.nn as nn\n",
    "\n",
    "linear_cpu = nn.Linear(msize, msize)\n",
    "linear_mps = nn.Linear(msize, msize).to('mps')"
   ]
  },
  {
   "cell_type": "code",
   "execution_count": 6,
   "id": "2e793c74",
   "metadata": {},
   "outputs": [
    {
     "name": "stdout",
     "output_type": "stream",
     "text": [
      "CPU : --- 0.8042757511138916 seconds ---\n"
     ]
    }
   ],
   "source": [
    "start_time = time.time()\n",
    "\n",
    "for _ in range(tloop):\n",
    "    linear_cpu(TENSOR_A_CPU)\n",
    "\n",
    "print(f\"CPU : --- {time.time() - start_time} seconds ---\")"
   ]
  },
  {
   "cell_type": "code",
   "execution_count": 7,
   "id": "1ae98a9d",
   "metadata": {},
   "outputs": [
    {
     "name": "stdout",
     "output_type": "stream",
     "text": [
      "MPS : --- 0.007073879241943359 seconds ---\n"
     ]
    }
   ],
   "source": [
    "start_time = time.time()\n",
    "\n",
    "for _ in range(tloop):\n",
    "    linear_mps(TENSOR_A_MPS)\n",
    "\n",
    "print(f\"MPS : --- {time.time() - start_time} seconds ---\")"
   ]
  },
  {
   "cell_type": "code",
   "execution_count": null,
   "id": "7dd77a3d",
   "metadata": {},
   "outputs": [],
   "source": []
  }
 ],
 "metadata": {
  "kernelspec": {
   "display_name": "Python 3 (ipykernel)",
   "language": "python",
   "name": "python3"
  },
  "language_info": {
   "codemirror_mode": {
    "name": "ipython",
    "version": 3
   },
   "file_extension": ".py",
   "mimetype": "text/x-python",
   "name": "python",
   "nbconvert_exporter": "python",
   "pygments_lexer": "ipython3",
   "version": "3.12.1"
  }
 },
 "nbformat": 4,
 "nbformat_minor": 5
}
