{
 "cells": [
  {
   "cell_type": "code",
   "execution_count": 35,
   "id": "9206770f",
   "metadata": {},
   "outputs": [],
   "source": [
    "import time\n",
    "import torch\n",
    "\n",
    "device = \"mps\"\n",
    "msize = 5000\n",
    "tloop = 100\n",
    "\n",
    "torch.manual_seed(1234)\n",
    "TENSOR_A_CPU = torch.rand(msize, msize)\n",
    "TENSOR_B_CPU = torch.rand(msize, msize)\n",
    "\n",
    "torch.manual_seed(1234)\n",
    "TENSOR_A_MPS = torch.rand(msize, msize).to(device)\n",
    "TENSOR_B_MPS = torch.rand(msize, msize).to(device)"
   ]
  },
  {
   "cell_type": "code",
   "execution_count": 36,
   "id": "40c73eef",
   "metadata": {},
   "outputs": [
    {
     "name": "stdout",
     "output_type": "stream",
     "text": [
      "CPU : --- 11.547360897064209 seconds ---\n"
     ]
    }
   ],
   "source": [
    "start_time = time.time()\n",
    "\n",
    "for _ in range(tloop):\n",
    "    TENSOR_A_CPU @ TENSOR_B_CPU\n",
    "\n",
    "print(f\"CPU : --- {time.time() - start_time} seconds ---\")"
   ]
  },
  {
   "cell_type": "code",
   "execution_count": 37,
   "id": "54524512",
   "metadata": {},
   "outputs": [
    {
     "name": "stdout",
     "output_type": "stream",
     "text": [
      "MPS : --- 0.016175031661987305 seconds ---\n"
     ]
    }
   ],
   "source": [
    "start_time = time.time()\n",
    "\n",
    "for _ in range(tloop):\n",
    "    TENSOR_A_MPS @ TENSOR_B_MPS\n",
    "\n",
    "print(f\"MPS : --- {time.time() - start_time} seconds ---\")"
   ]
  },
  {
   "cell_type": "code",
   "execution_count": 38,
   "id": "3c209358",
   "metadata": {},
   "outputs": [
    {
     "data": {
      "text/plain": [
       "torch.Size([5000, 5000])"
      ]
     },
     "execution_count": 38,
     "metadata": {},
     "output_type": "execute_result"
    }
   ],
   "source": [
    "TENSOR_A_MPS.shape"
   ]
  },
  {
   "cell_type": "code",
   "execution_count": null,
   "id": "0a53987c",
   "metadata": {},
   "outputs": [],
   "source": []
  }
 ],
 "metadata": {
  "kernelspec": {
   "display_name": "Python 3 (ipykernel)",
   "language": "python",
   "name": "python3"
  },
  "language_info": {
   "codemirror_mode": {
    "name": "ipython",
    "version": 3
   },
   "file_extension": ".py",
   "mimetype": "text/x-python",
   "name": "python",
   "nbconvert_exporter": "python",
   "pygments_lexer": "ipython3",
   "version": "3.12.1"
  }
 },
 "nbformat": 4,
 "nbformat_minor": 5
}
